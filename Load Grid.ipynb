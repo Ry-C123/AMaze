{
 "cells": [
  {
   "cell_type": "code",
   "execution_count": 53,
   "id": "fa8b596c",
   "metadata": {},
   "outputs": [],
   "source": [
    "import pickle\n",
    "import re\n",
    "import numpy as np\n",
    "\n",
    "### functions\n",
    "\n",
    "def get_start_pos(filename):\n",
    "    \"\"\"\n",
    "    File names are structured [level]_[start x pos]_[start y pos].pkl\n",
    "    Returns startin positions from file name\n",
    "    \"\"\"\n",
    "    matches = re.findall(r'\\d+', filename)# Use regular expression to find all groups of digits\n",
    "    return map(int, matches[1:3])# Extract and return the second and third numbers\n",
    "\n",
    "def apply_action(state, action):\n",
    "    \"\"\"\n",
    "    Move the ball up, down, left, or right\n",
    "    There are faster ways to do this, but this is a good general use case\n",
    "    \"\"\"\n",
    "    def move_press(grid, xp, yp, dx, dy):\n",
    "        while 0 <= xp < len(grid) and 0 <= yp < len(grid) and not grid[xp][yp].block:\n",
    "            grid[xp][yp].set_active(True)\n",
    "            xp += dx\n",
    "            yp += dy\n",
    "        return [grid, xp - dx, yp - dy]\n",
    "    \n",
    "    f_mapping = {'U': (move_press, -1, 0), 'D': (move_press, 1, 0), 'L': (move_press, 0, -1), 'R': (move_press, 0, 1)}\n",
    "    \n",
    "    xp, yp, grid = state.x_pos, state.y_pos, state.grid\n",
    "    \n",
    "    move_function, dx, dy = f_mapping[action]\n",
    "    state.grid, state.x_pos, state.y_pos = move_function(grid, xp, yp, dx, dy)\n",
    "\n",
    "def is_end_state(state):\n",
    "    #Check if the game is done\n",
    "    return np.sum([not cell.active and not cell.block for row in state.grid for cell in row]) == 0\n",
    "\n",
    "###### Cell Class\n",
    "\n",
    "class Cell:\n",
    "    \"\"\"\n",
    "    Cell classes describe the the cells in the grid\n",
    "    They can either be blocked (a wall) or not (traversable cell)\n",
    "    If not blocked they can be active (stepped on) or inactive (not traversed)\n",
    "    \"\"\"\n",
    "    def __init__(self, block, active):\n",
    "        if isinstance(block, bool) and isinstance(active, bool):\n",
    "            self.block = block\n",
    "            self.active = active\n",
    "        else:\n",
    "            raise ValueError(\"Active and Block must be a boolean\")\n",
    "\n",
    "    def set_block(self, block):\n",
    "        if not isinstance(block, bool):\n",
    "            raise ValueError(\"Block must be a boolean\")\n",
    "        self.block = block\n",
    "\n",
    "    def set_active(self, active):\n",
    "        if not isinstance(active, bool):\n",
    "            raise ValueError(\"Active must be a boolean\")\n",
    "        self.active = active\n",
    "    \n",
    "\n",
    "###### Game state class\n",
    "\n",
    "class Game_state:\n",
    "    \"\"\"\n",
    "    Load and save the grid. Contains x_pos of the ball, y_pos of the ball\n",
    "    Grid size, blocked cells, and active cells within the grid\n",
    "    \"\"\"\n",
    "    def __init__(self, x_pos, y_pos, grid):\n",
    "        self.x_pos = x_pos\n",
    "        self.y_pos = y_pos\n",
    "        self.grid = grid\n",
    "        \n",
    "    def save_grid(self, fn):\n",
    "        filename = fn+\".pkl\"\n",
    "        if filename:\n",
    "            with open(filename, 'wb') as file:\n",
    "                pickle.dump((len(self.grid), self.grid), file)\n",
    "\n",
    "    def load_grid(self, filename):\n",
    "        if filename:\n",
    "            with open(filename, 'rb') as file:\n",
    "                size, loaded_grid = pickle.load(file)\n",
    "                self.grid = loaded_grid\n",
    "                self.x_pos, self.y_pos = get_start_pos(filename)"
   ]
  },
  {
   "cell_type": "code",
   "execution_count": 62,
   "id": "fbbcb3d3",
   "metadata": {},
   "outputs": [
    {
     "name": "stdout",
     "output_type": "stream",
     "text": [
      "--- Empty grid layout ---\n",
      "\n",
      "\n",
      "Start Position:\n",
      "0 8\n",
      "\n",
      "0 0 0 1 0 0 0 1 1 \n",
      "0 1 0 1 0 1 0 1 1 \n",
      "0 1 0 1 0 1 0 1 1 \n",
      "0 0 0 0 0 0 0 1 1 \n",
      "1 1 0 1 0 1 1 1 1 \n",
      "0 0 0 0 0 0 0 1 1 \n",
      "0 1 0 1 0 1 0 1 1 \n",
      "0 1 0 1 0 1 0 1 1 \n",
      "0 0 0 1 0 0 0 1 1 \n"
     ]
    }
   ],
   "source": [
    "init_state = Game_state(0, 0, 0) #initial state\n",
    "init_state.load_grid('LEVELS\\\\11_8_0.pkl') #Load level 11\n",
    "\n",
    "print('--- Empty grid layout ---\\n\\n')\n",
    "print(\"Start Position:\")\n",
    "print(init_state.y_pos, init_state.x_pos)\n",
    "print()\n",
    "for row in init_state.grid:\n",
    "    for cell in row:\n",
    "        print(1 if cell.block else 0, end=' ')\n",
    "    print()"
   ]
  },
  {
   "cell_type": "code",
   "execution_count": 63,
   "id": "2612ffe0",
   "metadata": {},
   "outputs": [
    {
     "name": "stdout",
     "output_type": "stream",
     "text": [
      "\n",
      "--- Active cell layout ---\n",
      "\n",
      "\n",
      "0 0 0 0 0 0 0 0 0 \n",
      "0 0 0 0 0 0 0 0 0 \n",
      "0 0 0 0 0 0 0 0 0 \n",
      "0 0 0 0 0 0 0 0 0 \n",
      "0 0 0 0 0 0 0 0 0 \n",
      "0 0 0 0 0 0 0 0 0 \n",
      "0 0 0 0 0 0 0 0 0 \n",
      "0 0 0 0 0 0 0 0 0 \n",
      "0 0 0 0 0 0 0 0 0 \n"
     ]
    }
   ],
   "source": [
    "print('\\n--- Active cell layout ---\\n\\n') #should all be 0\n",
    "for row in init_state.grid:\n",
    "    for cell in row:\n",
    "        print(2 if cell.active else 0, end=' ')\n",
    "    print()"
   ]
  },
  {
   "cell_type": "code",
   "execution_count": 64,
   "id": "b443c628",
   "metadata": {},
   "outputs": [
    {
     "name": "stdout",
     "output_type": "stream",
     "text": [
      "\n",
      "--- Whole Grid after first move---\n",
      "\n",
      "\n",
      "New Position:\n",
      "0 5\n",
      "\n",
      "0 0 0 1 0 0 0 1 1 \n",
      "0 1 0 1 0 1 0 1 1 \n",
      "0 1 0 1 0 1 0 1 1 \n",
      "0 0 0 0 0 0 0 1 1 \n",
      "1 1 0 1 0 1 1 1 1 \n",
      "2 0 0 0 0 0 0 1 1 \n",
      "2 1 0 1 0 1 0 1 1 \n",
      "2 1 0 1 0 1 0 1 1 \n",
      "2 0 0 1 0 0 0 1 1 \n"
     ]
    }
   ],
   "source": [
    "apply_action(init_state, 'U') #Actions can be done ['U', 'D', 'L', 'R']\n",
    "print('\\n--- Whole Grid after first move---\\n\\n') #active cells = 2, blocked cells = 1, inactive cells = 0\n",
    "print(\"New Position:\")\n",
    "print(init_state.y_pos, init_state.x_pos)\n",
    "print()\n",
    "for row in init_state.grid:\n",
    "    for cell in row:\n",
    "        print(2 if cell.active else (1 if cell.block else 0), end=' ')\n",
    "    print()"
   ]
  },
  {
   "cell_type": "code",
   "execution_count": 65,
   "id": "5384c60c",
   "metadata": {},
   "outputs": [
    {
     "name": "stdout",
     "output_type": "stream",
     "text": [
      "play level 1\n",
      "\n",
      "Keep playing\n",
      "Keep playing\n",
      "Keep playing\n",
      "You won!\n"
     ]
    }
   ],
   "source": [
    "print('play level 1\\n')\n",
    "\n",
    "init_state = Game_state(0, 0, 0) #initial state\n",
    "init_state.load_grid('LEVELS\\\\1_4_0.pkl') #Load level 1\n",
    "\n",
    "for action in ['U', 'R', 'D', 'L']:\n",
    "    apply_action(init_state, action)\n",
    "    if is_end_state(init_state):\n",
    "        print('You won!')\n",
    "    else:\n",
    "        print('Keep playing')"
   ]
  }
 ],
 "metadata": {
  "kernelspec": {
   "display_name": "Python 3 (ipykernel)",
   "language": "python",
   "name": "python3"
  },
  "language_info": {
   "codemirror_mode": {
    "name": "ipython",
    "version": 3
   },
   "file_extension": ".py",
   "mimetype": "text/x-python",
   "name": "python",
   "nbconvert_exporter": "python",
   "pygments_lexer": "ipython3",
   "version": "3.9.12"
  }
 },
 "nbformat": 4,
 "nbformat_minor": 5
}
